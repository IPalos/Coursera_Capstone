{
 "cells": [
  {
   "cell_type": "markdown",
   "metadata": {},
   "source": [
    "# Introduction\n",
    "\n",
    "Using Foursquare's data about cultural events and places, It's possible to group similar events and create several touristic trips around a specific city for people with different tastes using machine learning. As a first iteration of the idea, we could get the data from museums, concert halls, live theaters,  expos, etc. and group them using k-means based on the content of each event, and offer thematic touristic services around those events."
   ]
  },
  {
   "cell_type": "markdown",
   "metadata": {},
   "source": [
    "# Data \n",
    "- Type ( museum, live theater, concert, etc )\n",
    "- Location ( latitude, longitude)\n",
    "- Category ( history, lifestyle, natural sciences, modern art, classical art, digital, etc )\n",
    "- Price ( free, free for students, $, '$$', '$$$')\n"
   ]
  },
  {
   "cell_type": "code",
   "execution_count": null,
   "metadata": {},
   "outputs": [],
   "source": []
  }
 ],
 "metadata": {
  "kernelspec": {
   "display_name": "Python 3",
   "language": "python",
   "name": "python3"
  },
  "language_info": {
   "codemirror_mode": {
    "name": "ipython",
    "version": 3
   },
   "file_extension": ".py",
   "mimetype": "text/x-python",
   "name": "python",
   "nbconvert_exporter": "python",
   "pygments_lexer": "ipython3",
   "version": "3.7.4"
  }
 },
 "nbformat": 4,
 "nbformat_minor": 2
}
